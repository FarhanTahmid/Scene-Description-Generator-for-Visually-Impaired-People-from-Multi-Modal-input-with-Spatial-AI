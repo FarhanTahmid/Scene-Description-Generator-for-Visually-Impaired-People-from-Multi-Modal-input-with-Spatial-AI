{
 "cells": [
  {
   "cell_type": "code",
   "execution_count": 5,
   "metadata": {},
   "outputs": [],
   "source": [
    "import cv2\n",
    "import numpy as np\n",
    "import os"
   ]
  },
  {
   "cell_type": "code",
   "execution_count": 7,
   "metadata": {},
   "outputs": [],
   "source": [
    "class SceneChangeDetector:\n",
    "    def __init__(self, threshold=30, min_scene_len=40):\n",
    "        \"\"\"\n",
    "        Initialize the scene change detector.\n",
    "\n",
    "        Args:\n",
    "            threshold: Sensitivity threshold for detecting scene changes.\n",
    "            min_scene_len: Minimum length of a scene in frames.\n",
    "        \"\"\"\n",
    "        self.threshold = threshold\n",
    "        self.min_scene_len = min_scene_len\n",
    "        \n",
    "    def find_scene_changes(self, video_path):\n",
    "        \"\"\"\n",
    "        Detect scene changes in the given video.\n",
    "\n",
    "        Args:\n",
    "            video_path: Path to the video file.\n",
    "\n",
    "        Returns:\n",
    "            List of scene changes with their corresponding frame indices and timecodes.\n",
    "        \"\"\"\n",
    "        cap = cv2.VideoCapture(video_path)\n",
    "        fps = cap.get(cv2.CAP_PROP_FPS)\n",
    "        frame_count = int(cap.get(cv2.CAP_PROP_FRAME_COUNT))\n",
    "        scene_changes = []\n",
    "\n",
    "        prev_frame = None\n",
    "        frame_idx = 0\n",
    "        last_scene_frame = 0\n",
    "\n",
    "        while True:\n",
    "            ret, frame = cap.read()\n",
    "            if not ret:\n",
    "                break\n",
    "\n",
    "            frame_idx += 1\n",
    "            # Convert to grayscale for processing.\n",
    "            gray_frame = cv2.cvtColor(frame, cv2.COLOR_BGR2GRAY)\n",
    "\n",
    "            if prev_frame is not None:\n",
    "                # Calculate absolute difference between frames.\n",
    "                diff = cv2.absdiff(prev_frame, gray_frame)\n",
    "                diff_mean = np.mean(diff)\n",
    "\n",
    "                # Check if the difference exceeds the threshold.\n",
    "                if diff_mean > self.threshold and (frame_idx - last_scene_frame) > self.min_scene_len:\n",
    "                    # Save the scene change.\n",
    "                    timecode = self.frame_to_timecode(frame_idx, fps)\n",
    "                    scene_changes.append((frame_idx, timecode))\n",
    "                    last_scene_frame = frame_idx\n",
    "\n",
    "            prev_frame = gray_frame\n",
    "\n",
    "        cap.release()\n",
    "        return scene_changes\n",
    "    \n",
    "    @staticmethod\n",
    "    def frame_to_timecode(frame_idx, fps):\n",
    "        \"\"\"\n",
    "        Convert frame index to timecode format.\n",
    "\n",
    "        Args:\n",
    "            frame_idx: Index of the frame.\n",
    "            fps: Frames per second of the video.\n",
    "\n",
    "        Returns:\n",
    "            Timecode in the format HH:MM:SS.\n",
    "        \"\"\"\n",
    "        total_seconds = frame_idx / fps\n",
    "        hours = int(total_seconds // 3600)\n",
    "        minutes = int((total_seconds % 3600) // 60)\n",
    "        seconds = int(total_seconds % 60)\n",
    "        return f\"{hours:02}:{minutes:02}:{seconds:02}\"\n"
   ]
  },
  {
   "cell_type": "code",
   "execution_count": 8,
   "metadata": {},
   "outputs": [
    {
     "name": "stdout",
     "output_type": "stream",
     "text": [
      "Detected scenes:\n",
      "Scene change at frame 53, timecode 00:00:02\n",
      "Scene change at frame 176, timecode 00:00:07\n",
      "Scene change at frame 287, timecode 00:00:11\n"
     ]
    }
   ],
   "source": [
    "# Example usage:\n",
    "if __name__ == \"__main__\":\n",
    "    video_path = os.environ['PROJECT_DIRECTORY'] + 'Dataset/MSR-VTT/TrainVal/video0.mp4' # Replace with your video file path\n",
    "    detector = SceneChangeDetector(threshold=30, min_scene_len=40)\n",
    "\n",
    "    scenes = detector.find_scene_changes(video_path)\n",
    "    if not scenes:\n",
    "        print(\"No scenes detected.\")\n",
    "    else:\n",
    "        print(\"Detected scenes:\")\n",
    "        for scene_idx, timecode in scenes:\n",
    "            print(f\"Scene change at frame {scene_idx}, timecode {timecode}\")"
   ]
  },
  {
   "cell_type": "code",
   "execution_count": null,
   "metadata": {},
   "outputs": [],
   "source": []
  }
 ],
 "metadata": {
  "kernelspec": {
   "display_name": ".venv",
   "language": "python",
   "name": "python3"
  },
  "language_info": {
   "codemirror_mode": {
    "name": "ipython",
    "version": 3
   },
   "file_extension": ".py",
   "mimetype": "text/x-python",
   "name": "python",
   "nbconvert_exporter": "python",
   "pygments_lexer": "ipython3",
   "version": "3.10.12"
  }
 },
 "nbformat": 4,
 "nbformat_minor": 2
}
