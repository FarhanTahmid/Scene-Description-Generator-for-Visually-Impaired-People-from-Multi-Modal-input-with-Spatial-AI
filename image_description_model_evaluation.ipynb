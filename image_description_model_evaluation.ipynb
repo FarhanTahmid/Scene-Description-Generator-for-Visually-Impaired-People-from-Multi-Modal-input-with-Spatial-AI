{
 "cells": [
  {
   "cell_type": "code",
   "execution_count": 1,
   "metadata": {},
   "outputs": [],
   "source": [
    "%load_ext autoreload\n",
    "%autoreload 2"
   ]
  },
  {
   "cell_type": "code",
   "execution_count": 2,
   "metadata": {},
   "outputs": [],
   "source": [
    "import sys\n",
    "import os\n",
    "\n",
    "BASE_DIR=os.environ['PROJECT_DIRECTORY']\n",
    "sys.path.append(BASE_DIR+'sotware_utils/')\n",
    "sys.path.append(BASE_DIR+'models/')\n",
    "\n",
    "from __future__ import print_function\n",
    "import time\n",
    "import numpy as np\n",
    "import matplotlib.pyplot as plt\n",
    "import nltk\n",
    "import pickle\n",
    "import pandas as pd\n",
    "import argparse\n",
    "\n",
    "import torch\n",
    "import torch.nn as nn\n",
    "import torch.optim as optim\n",
    "import torchvision\n",
    "from torch.autograd import Variable\n",
    "\n",
    "from software_utils.vocabulary import Vocabulary\n",
    "from software_utils.image_dataloader import get_image_dataloader, ImageDataset\n",
    "from models.image_captioner import ImageCaptioner"
   ]
  },
  {
   "cell_type": "code",
   "execution_count": 3,
   "metadata": {},
   "outputs": [],
   "source": [
    "images_path = BASE_DIR +'Dataset/coco/images/'\n",
    "captions_path = BASE_DIR + 'cocoapi/annotations/coco_captions.csv'\n",
    "models_path = BASE_DIR+'models/'\n",
    "batch_size = 64\n",
    "coco_set = 2014\n",
    "load_features = True\n",
    "preload = True\n",
    "base_model='resnet152' # 'vgg16' # 'resnet152'\n",
    "embedding_size = 2048 # 25088 # 2048\n",
    "load_captions = True"
   ]
  },
  {
   "cell_type": "code",
   "execution_count": 4,
   "metadata": {},
   "outputs": [],
   "source": [
    "vocab_path = BASE_DIR+'Data/processed/coco_vocab.pkl'"
   ]
  },
  {
   "cell_type": "code",
   "execution_count": 5,
   "metadata": {},
   "outputs": [
    {
     "name": "stdout",
     "output_type": "stream",
     "text": [
      "Loading validation data...Done\n"
     ]
    }
   ],
   "source": [
    "print (\"Loading validation data...\\r\", end=\"\")\n",
    "val_loader = get_image_dataloader('val',coco_set,\n",
    "                                  images_path, \n",
    "                                  vocab_path, captions_path, \n",
    "                                  batch_size, \n",
    "                                  embedding_size=embedding_size,\n",
    "                                  load_features=load_features,\n",
    "                                  load_captions=load_captions,\n",
    "                                  model=base_model,\n",
    "                                  preload=preload)\n",
    "val_loader.dataset.mode = 'val'\n",
    "print (\"Loading validation data...Done\")"
   ]
  },
  {
   "cell_type": "code",
   "execution_count": null,
   "metadata": {},
   "outputs": [
    {
     "name": "stdout",
     "output_type": "stream",
     "text": [
      "Vocab size 12433, Caption length 30\n"
     ]
    }
   ],
   "source": [
    "vocab_size = val_loader.dataset.get_vocab_size()\n",
    "start_id = val_loader.dataset.get_idx()[val_loader.dataset.vocab.start_word]\n",
    "end_id = val_loader.dataset.get_idx()[val_loader.dataset.vocab.end_word]\n",
    "max_caption_length = val_loader.dataset.max_len\n",
    "\n",
    "print(f\"Vocab size {vocab_size}, Caption length {max_caption_length}\")"
   ]
  },
  {
   "cell_type": "code",
   "execution_count": 7,
   "metadata": {},
   "outputs": [],
   "source": [
    "embed_size = 256\n",
    "hidden_size = 512\n",
    "rnn_type = 'lstm'"
   ]
  },
  {
   "cell_type": "code",
   "execution_count": 8,
   "metadata": {},
   "outputs": [
    {
     "name": "stdout",
     "output_type": "stream",
     "text": [
      "CUDA Available\n"
     ]
    }
   ],
   "source": [
    "captioner = ImageCaptioner(embedding_size, embed_size, \n",
    "                           hidden_size, vocab_size,\n",
    "                           max_caption_length,\n",
    "                           start_id, end_id,\n",
    "                           rnn_type='lstm')\n",
    "\n",
    "if torch.cuda.is_available():\n",
    "  print(\"CUDA Available\")\n",
    "  captioner.cuda()"
   ]
  },
  {
   "cell_type": "code",
   "execution_count": 9,
   "metadata": {},
   "outputs": [],
   "source": [
    "models_path+='image_caption-model11-20-0.1309-5.0.pkl'"
   ]
  },
  {
   "cell_type": "code",
   "execution_count": 10,
   "metadata": {},
   "outputs": [
    {
     "name": "stderr",
     "output_type": "stream",
     "text": [
      "/tmp/ipykernel_207774/1605169928.py:1: FutureWarning: You are using `torch.load` with `weights_only=False` (the current default value), which uses the default pickle module implicitly. It is possible to construct malicious pickle data which will execute arbitrary code during unpickling (See https://github.com/pytorch/pytorch/blob/main/SECURITY.md#untrusted-models for more details). In a future release, the default value for `weights_only` will be flipped to `True`. This limits the functions that could be executed during unpickling. Arbitrary objects will no longer be allowed to be loaded via this mode unless they are explicitly allowlisted by the user via `torch.serialization.add_safe_globals`. We recommend you start setting `weights_only=True` for any use case where you don't have full control of the loaded file. Please open an issue on GitHub for any issues related to this experimental feature.\n",
      "  checkpoint = torch.load(models_path)\n"
     ]
    },
    {
     "data": {
      "text/plain": [
       "ImageCaptioner(\n",
       "  (inp): Linear(in_features=2048, out_features=256, bias=True)\n",
       "  (inp_dropout): Dropout(p=0.2, inplace=False)\n",
       "  (inp_bn): BatchNorm1d(256, eps=1e-05, momentum=0.01, affine=True, track_running_stats=True)\n",
       "  (embed): Embedding(12433, 256)\n",
       "  (rnn): LSTM(256, 512, batch_first=True)\n",
       "  (out): Linear(in_features=512, out_features=12433, bias=True)\n",
       ")"
      ]
     },
     "execution_count": 10,
     "metadata": {},
     "output_type": "execute_result"
    }
   ],
   "source": [
    "checkpoint = torch.load(models_path)\n",
    "\n",
    "captioner.load_state_dict(checkpoint['params'])\n",
    "captioner.eval()"
   ]
  },
  {
   "cell_type": "code",
   "execution_count": 11,
   "metadata": {},
   "outputs": [
    {
     "name": "stdout",
     "output_type": "stream",
     "text": [
      "Validation step [0/607], Bleu: 0.1045\n",
      "Validation step [250/607], Bleu: 0.1423\n",
      "Validation step [500/607], Bleu: 0.1091\n",
      "Validation step [606/607], Bleu: 0.1075\n",
      "Validation -- bleu: 0.1245\n"
     ]
    }
   ],
   "source": [
    "\n",
    "val_bleu = 0.0\n",
    "beam_size = 0\n",
    "\n",
    "for val_id, val_batch in enumerate(val_loader):\n",
    "  idxs, im_embeddings, caption_embeddings = val_batch\n",
    "\n",
    "  if torch.cuda.is_available():\n",
    "    im_embeddings = im_embeddings.cuda()\n",
    "    caption_embeddings = caption_embeddings.cuda()\n",
    "\n",
    "  # Get ground truth captions\n",
    "  refs = val_loader.dataset.get_references(idxs.numpy())\n",
    "            \n",
    "  preds = captioner.predict(im_embeddings, beam_size=beam_size)\n",
    "  \n",
    "  # Calculate bleu loss per sample in batch\n",
    "  # Sum and add length normalized sum to val_loss\n",
    "  batch_bleu = 0.0\n",
    "  for pred_id in range(len(preds)):\n",
    "    pred = preds[pred_id].cpu().numpy().astype(int)\n",
    "    pred_embed = val_loader.dataset.vocab.decode(pred, clean=True)\n",
    "    batch_bleu += val_loader.dataset.vocab.evaluate(refs[pred_id], pred_embed)\n",
    "  val_bleu += (batch_bleu/len(preds))\n",
    "\n",
    "  # Get training statistics\n",
    "  stats = \"Validation step [%d/%d], Bleu: %.4f\" \\\n",
    "            % (val_id, val_loader.dataset.get_seq_len(), \n",
    "                batch_bleu/len(preds))\n",
    "\n",
    "  print(\"\\r\" + stats, end=\"\")\n",
    "  sys.stdout.flush()\n",
    "\n",
    "  if val_id % 250 == 0:\n",
    "    print('\\r' + stats)\n",
    "\n",
    "val_bleu /= val_loader.dataset.get_seq_len()\n",
    "print (\"\\nValidation -- bleu: %.4f\" % (val_bleu))"
   ]
  },
  {
   "cell_type": "code",
   "execution_count": 12,
   "metadata": {},
   "outputs": [
    {
     "name": "stdout",
     "output_type": "stream",
     "text": [
      "Validation step [0/607], Bleu: 0.1409\n",
      "Validation step [250/607], Bleu: 0.1888\n",
      "Validation step [500/607], Bleu: 0.1233\n",
      "Validation step [606/607], Bleu: 0.0951\n",
      "Validation -- bleu: 0.1310\n"
     ]
    }
   ],
   "source": [
    "\n",
    "val_bleu = 0.0\n",
    "beam_size = 3\n",
    "\n",
    "for val_id, val_batch in enumerate(val_loader):\n",
    "  idxs, im_embeddings, caption_embeddings = val_batch\n",
    "\n",
    "  if torch.cuda.is_available():\n",
    "    im_embeddings = im_embeddings.cuda()\n",
    "    caption_embeddings = caption_embeddings.cuda()\n",
    "\n",
    "  # Get ground truth captions\n",
    "  refs = val_loader.dataset.get_references(idxs.numpy())\n",
    "            \n",
    "  preds = captioner.predict(im_embeddings, beam_size=beam_size)\n",
    "  \n",
    "  # Calculate bleu loss per sample in batch\n",
    "  # Sum and add length normalized sum to val_loss\n",
    "  batch_bleu = 0.0\n",
    "  for pred_id in range(len(preds)):\n",
    "    pred = preds[pred_id].cpu().numpy().astype(int)\n",
    "    pred_embed = val_loader.dataset.vocab.decode(pred, clean=True)\n",
    "    batch_bleu += val_loader.dataset.vocab.evaluate(refs[pred_id], pred_embed)\n",
    "  val_bleu += (batch_bleu/len(preds))\n",
    "\n",
    "  # Get training statistics\n",
    "  stats = \"Validation step [%d/%d], Bleu: %.4f\" \\\n",
    "            % (val_id, val_loader.dataset.get_seq_len(), \n",
    "                batch_bleu/len(preds))\n",
    "\n",
    "  print(\"\\r\" + stats, end=\"\")\n",
    "  sys.stdout.flush()\n",
    "\n",
    "  if val_id % 250 == 0:\n",
    "    print('\\r' + stats)\n",
    "\n",
    "val_bleu /= val_loader.dataset.get_seq_len()\n",
    "print (\"\\nValidation -- bleu: %.4f\" % (val_bleu))"
   ]
  },
  {
   "cell_type": "code",
   "execution_count": 13,
   "metadata": {},
   "outputs": [
    {
     "name": "stdout",
     "output_type": "stream",
     "text": [
      "Validation step [0/607], Bleu: 0.1493\n",
      "Validation step [250/607], Bleu: 0.1295\n",
      "Validation step [500/607], Bleu: 0.1221\n",
      "Validation step [606/607], Bleu: 0.1327\n",
      "Validation -- bleu: 0.1317\n"
     ]
    }
   ],
   "source": [
    "\n",
    "val_bleu = 0.0\n",
    "beam_size = 5\n",
    "\n",
    "for val_id, val_batch in enumerate(val_loader):\n",
    "  idxs, im_embeddings, caption_embeddings = val_batch\n",
    "\n",
    "  if torch.cuda.is_available():\n",
    "    im_embeddings = im_embeddings.cuda()\n",
    "    caption_embeddings = caption_embeddings.cuda()\n",
    "\n",
    "  # Get ground truth captions\n",
    "  refs = val_loader.dataset.get_references(idxs.numpy())\n",
    "            \n",
    "  preds = captioner.predict(im_embeddings, beam_size=beam_size)\n",
    "  \n",
    "  # Calculate bleu loss per sample in batch\n",
    "  # Sum and add length normalized sum to val_loss\n",
    "  batch_bleu = 0.0\n",
    "  for pred_id in range(len(preds)):\n",
    "    pred = preds[pred_id].cpu().numpy().astype(int)\n",
    "    pred_embed = val_loader.dataset.vocab.decode(pred, clean=True)\n",
    "    batch_bleu += val_loader.dataset.vocab.evaluate(refs[pred_id], pred_embed)\n",
    "  val_bleu += (batch_bleu/len(preds))\n",
    "\n",
    "  # Get training statistics\n",
    "  stats = \"Validation step [%d/%d], Bleu: %.4f\" \\\n",
    "            % (val_id, val_loader.dataset.get_seq_len(), \n",
    "                batch_bleu/len(preds))\n",
    "\n",
    "  print(\"\\r\" + stats, end=\"\")\n",
    "  sys.stdout.flush()\n",
    "\n",
    "  if val_id % 250 == 0:\n",
    "    print('\\r' + stats)\n",
    "\n",
    "val_bleu /= val_loader.dataset.get_seq_len()\n",
    "print (\"\\nValidation -- bleu: %.4f\" % (val_bleu))"
   ]
  }
 ],
 "metadata": {
  "kernelspec": {
   "display_name": ".venv",
   "language": "python",
   "name": "python3"
  },
  "language_info": {
   "codemirror_mode": {
    "name": "ipython",
    "version": 3
   },
   "file_extension": ".py",
   "mimetype": "text/x-python",
   "name": "python",
   "nbconvert_exporter": "python",
   "pygments_lexer": "ipython3",
   "version": "3.10.12"
  }
 },
 "nbformat": 4,
 "nbformat_minor": 2
}
